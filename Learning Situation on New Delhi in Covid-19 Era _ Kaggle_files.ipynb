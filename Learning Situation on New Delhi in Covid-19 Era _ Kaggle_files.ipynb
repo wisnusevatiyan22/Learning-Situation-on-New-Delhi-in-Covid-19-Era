{
 "cells": [
  {
   "cell_type": "code",
   "execution_count": 1,
   "metadata": {},
   "outputs": [
    {
     "data": {
      "text/html": [
       "<div>\n",
       "<style scoped>\n",
       "    .dataframe tbody tr th:only-of-type {\n",
       "        vertical-align: middle;\n",
       "    }\n",
       "\n",
       "    .dataframe tbody tr th {\n",
       "        vertical-align: top;\n",
       "    }\n",
       "\n",
       "    .dataframe thead th {\n",
       "        text-align: right;\n",
       "    }\n",
       "</style>\n",
       "<table border=\"1\" class=\"dataframe\">\n",
       "  <thead>\n",
       "    <tr style=\"text-align: right;\">\n",
       "      <th></th>\n",
       "      <th>ID</th>\n",
       "      <th>Region of residence</th>\n",
       "      <th>Age of Subject</th>\n",
       "      <th>Time spent on Online Class</th>\n",
       "      <th>Rating of Online Class experience</th>\n",
       "      <th>Medium for online class</th>\n",
       "      <th>Time spent on self study</th>\n",
       "      <th>Time spent on fitness</th>\n",
       "      <th>Time spent on sleep</th>\n",
       "      <th>Time spent on social media</th>\n",
       "      <th>Prefered social media platform</th>\n",
       "      <th>Time spent on TV</th>\n",
       "      <th>Number of meals per day</th>\n",
       "      <th>Change in your weight</th>\n",
       "      <th>Health issue during lockdown</th>\n",
       "      <th>Stress busters</th>\n",
       "      <th>Time utilized</th>\n",
       "      <th>Do you find yourself more connected with your family, close friends , relatives  ?</th>\n",
       "      <th>What you miss the most</th>\n",
       "    </tr>\n",
       "  </thead>\n",
       "  <tbody>\n",
       "    <tr>\n",
       "      <th>0</th>\n",
       "      <td>R1</td>\n",
       "      <td>Delhi-NCR</td>\n",
       "      <td>21</td>\n",
       "      <td>2.0</td>\n",
       "      <td>Good</td>\n",
       "      <td>Laptop/Desktop</td>\n",
       "      <td>4.0</td>\n",
       "      <td>0.0</td>\n",
       "      <td>7.0</td>\n",
       "      <td>3.0</td>\n",
       "      <td>Linkedin</td>\n",
       "      <td>1</td>\n",
       "      <td>4</td>\n",
       "      <td>Increased</td>\n",
       "      <td>NO</td>\n",
       "      <td>Cooking</td>\n",
       "      <td>YES</td>\n",
       "      <td>YES</td>\n",
       "      <td>School/college</td>\n",
       "    </tr>\n",
       "    <tr>\n",
       "      <th>1</th>\n",
       "      <td>R2</td>\n",
       "      <td>Delhi-NCR</td>\n",
       "      <td>21</td>\n",
       "      <td>0.0</td>\n",
       "      <td>Excellent</td>\n",
       "      <td>Smartphone</td>\n",
       "      <td>0.0</td>\n",
       "      <td>2.0</td>\n",
       "      <td>10.0</td>\n",
       "      <td>3.0</td>\n",
       "      <td>Youtube</td>\n",
       "      <td>0</td>\n",
       "      <td>3</td>\n",
       "      <td>Decreased</td>\n",
       "      <td>NO</td>\n",
       "      <td>Scrolling through social media</td>\n",
       "      <td>YES</td>\n",
       "      <td>NO</td>\n",
       "      <td>Roaming around freely</td>\n",
       "    </tr>\n",
       "    <tr>\n",
       "      <th>2</th>\n",
       "      <td>R3</td>\n",
       "      <td>Delhi-NCR</td>\n",
       "      <td>20</td>\n",
       "      <td>7.0</td>\n",
       "      <td>Very poor</td>\n",
       "      <td>Laptop/Desktop</td>\n",
       "      <td>3.0</td>\n",
       "      <td>0.0</td>\n",
       "      <td>6.0</td>\n",
       "      <td>2.0</td>\n",
       "      <td>Linkedin</td>\n",
       "      <td>0</td>\n",
       "      <td>3</td>\n",
       "      <td>Remain Constant</td>\n",
       "      <td>NO</td>\n",
       "      <td>Listening to music</td>\n",
       "      <td>NO</td>\n",
       "      <td>YES</td>\n",
       "      <td>Travelling</td>\n",
       "    </tr>\n",
       "    <tr>\n",
       "      <th>3</th>\n",
       "      <td>R4</td>\n",
       "      <td>Delhi-NCR</td>\n",
       "      <td>20</td>\n",
       "      <td>3.0</td>\n",
       "      <td>Very poor</td>\n",
       "      <td>Smartphone</td>\n",
       "      <td>2.0</td>\n",
       "      <td>1.0</td>\n",
       "      <td>6.0</td>\n",
       "      <td>5.0</td>\n",
       "      <td>Instagram</td>\n",
       "      <td>0</td>\n",
       "      <td>3</td>\n",
       "      <td>Decreased</td>\n",
       "      <td>NO</td>\n",
       "      <td>Watching web series</td>\n",
       "      <td>NO</td>\n",
       "      <td>NO</td>\n",
       "      <td>Friends , relatives</td>\n",
       "    </tr>\n",
       "    <tr>\n",
       "      <th>4</th>\n",
       "      <td>R5</td>\n",
       "      <td>Delhi-NCR</td>\n",
       "      <td>21</td>\n",
       "      <td>3.0</td>\n",
       "      <td>Good</td>\n",
       "      <td>Laptop/Desktop</td>\n",
       "      <td>3.0</td>\n",
       "      <td>1.0</td>\n",
       "      <td>8.0</td>\n",
       "      <td>3.0</td>\n",
       "      <td>Instagram</td>\n",
       "      <td>1</td>\n",
       "      <td>4</td>\n",
       "      <td>Remain Constant</td>\n",
       "      <td>NO</td>\n",
       "      <td>Social Media</td>\n",
       "      <td>NO</td>\n",
       "      <td>NO</td>\n",
       "      <td>Travelling</td>\n",
       "    </tr>\n",
       "  </tbody>\n",
       "</table>\n",
       "</div>"
      ],
      "text/plain": [
       "   ID Region of residence  Age of Subject  Time spent on Online Class  \\\n",
       "0  R1           Delhi-NCR              21                         2.0   \n",
       "1  R2           Delhi-NCR              21                         0.0   \n",
       "2  R3           Delhi-NCR              20                         7.0   \n",
       "3  R4           Delhi-NCR              20                         3.0   \n",
       "4  R5           Delhi-NCR              21                         3.0   \n",
       "\n",
       "  Rating of Online Class experience Medium for online class  \\\n",
       "0                              Good          Laptop/Desktop   \n",
       "1                         Excellent              Smartphone   \n",
       "2                         Very poor          Laptop/Desktop   \n",
       "3                         Very poor              Smartphone   \n",
       "4                              Good          Laptop/Desktop   \n",
       "\n",
       "   Time spent on self study  Time spent on fitness  Time spent on sleep  \\\n",
       "0                       4.0                    0.0                  7.0   \n",
       "1                       0.0                    2.0                 10.0   \n",
       "2                       3.0                    0.0                  6.0   \n",
       "3                       2.0                    1.0                  6.0   \n",
       "4                       3.0                    1.0                  8.0   \n",
       "\n",
       "   Time spent on social media Prefered social media platform Time spent on TV  \\\n",
       "0                         3.0                       Linkedin                1   \n",
       "1                         3.0                        Youtube                0   \n",
       "2                         2.0                       Linkedin                0   \n",
       "3                         5.0                      Instagram                0   \n",
       "4                         3.0                      Instagram                1   \n",
       "\n",
       "   Number of meals per day Change in your weight Health issue during lockdown  \\\n",
       "0                        4             Increased                           NO   \n",
       "1                        3             Decreased                           NO   \n",
       "2                        3       Remain Constant                           NO   \n",
       "3                        3             Decreased                           NO   \n",
       "4                        4       Remain Constant                           NO   \n",
       "\n",
       "                   Stress busters Time utilized  \\\n",
       "0                         Cooking           YES   \n",
       "1  Scrolling through social media           YES   \n",
       "2              Listening to music            NO   \n",
       "3             Watching web series            NO   \n",
       "4                    Social Media            NO   \n",
       "\n",
       "  Do you find yourself more connected with your family, close friends , relatives  ?  \\\n",
       "0                                                YES                                   \n",
       "1                                                 NO                                   \n",
       "2                                                YES                                   \n",
       "3                                                 NO                                   \n",
       "4                                                 NO                                   \n",
       "\n",
       "  What you miss the most  \n",
       "0         School/college  \n",
       "1  Roaming around freely  \n",
       "2             Travelling  \n",
       "3    Friends , relatives  \n",
       "4             Travelling  "
      ]
     },
     "execution_count": 1,
     "metadata": {},
     "output_type": "execute_result"
    }
   ],
   "source": [
    "import pandas as pd\n",
    "import matplotlib.pyplot as plt\n",
    "df = pd.read_csv('E:/Data Scientist/video Learning Situation on New Delhi in Covid-19 Era _ Kaggle_files/COVID-19 Survey Student Responses.csv')\n",
    "df.head()\n"
   ]
  },
  {
   "cell_type": "code",
   "execution_count": 2,
   "metadata": {},
   "outputs": [
    {
     "data": {
      "text/html": [
       "<div>\n",
       "<style scoped>\n",
       "    .dataframe tbody tr th:only-of-type {\n",
       "        vertical-align: middle;\n",
       "    }\n",
       "\n",
       "    .dataframe tbody tr th {\n",
       "        vertical-align: top;\n",
       "    }\n",
       "\n",
       "    .dataframe thead th {\n",
       "        text-align: right;\n",
       "    }\n",
       "</style>\n",
       "<table border=\"1\" class=\"dataframe\">\n",
       "  <thead>\n",
       "    <tr style=\"text-align: right;\">\n",
       "      <th></th>\n",
       "      <th>ID</th>\n",
       "      <th>Region of residence</th>\n",
       "      <th>Age of Subject</th>\n",
       "      <th>Time spent on Online Class</th>\n",
       "      <th>Rating of Online Class experience</th>\n",
       "      <th>Medium for online class</th>\n",
       "      <th>Time spent on self study</th>\n",
       "      <th>Time spent on fitness</th>\n",
       "      <th>Time spent on sleep</th>\n",
       "      <th>Time spent on social media</th>\n",
       "      <th>...</th>\n",
       "      <th>Health issue during lockdown</th>\n",
       "      <th>Stress busters</th>\n",
       "      <th>Time utilized</th>\n",
       "      <th>Do you find yourself more connected with your family, close friends , relatives  ?</th>\n",
       "      <th>What you miss the most</th>\n",
       "      <th>Subject's level of school</th>\n",
       "      <th>Is student spent more time on Sosial Media than Self Study?</th>\n",
       "      <th>Is student has normal time sleep?</th>\n",
       "      <th>Total time study</th>\n",
       "      <th>Is student has normal time fitness?</th>\n",
       "    </tr>\n",
       "  </thead>\n",
       "  <tbody>\n",
       "    <tr>\n",
       "      <th>0</th>\n",
       "      <td>R1</td>\n",
       "      <td>Delhi-NCR</td>\n",
       "      <td>21</td>\n",
       "      <td>2.0</td>\n",
       "      <td>4</td>\n",
       "      <td>Laptop/Desktop</td>\n",
       "      <td>4.0</td>\n",
       "      <td>0.0</td>\n",
       "      <td>7.0</td>\n",
       "      <td>3.0</td>\n",
       "      <td>...</td>\n",
       "      <td>NO</td>\n",
       "      <td>Cooking</td>\n",
       "      <td>YES</td>\n",
       "      <td>YES</td>\n",
       "      <td>School/college</td>\n",
       "      <td>College</td>\n",
       "      <td>NO</td>\n",
       "      <td>YES</td>\n",
       "      <td>6.0</td>\n",
       "      <td>NO</td>\n",
       "    </tr>\n",
       "    <tr>\n",
       "      <th>1</th>\n",
       "      <td>R2</td>\n",
       "      <td>Delhi-NCR</td>\n",
       "      <td>21</td>\n",
       "      <td>0.0</td>\n",
       "      <td>5</td>\n",
       "      <td>Smartphone</td>\n",
       "      <td>0.0</td>\n",
       "      <td>2.0</td>\n",
       "      <td>10.0</td>\n",
       "      <td>3.0</td>\n",
       "      <td>...</td>\n",
       "      <td>NO</td>\n",
       "      <td>Scrolling through social media</td>\n",
       "      <td>YES</td>\n",
       "      <td>NO</td>\n",
       "      <td>Roaming around freely</td>\n",
       "      <td>College</td>\n",
       "      <td>YES</td>\n",
       "      <td>YES</td>\n",
       "      <td>0.0</td>\n",
       "      <td>YES</td>\n",
       "    </tr>\n",
       "    <tr>\n",
       "      <th>2</th>\n",
       "      <td>R3</td>\n",
       "      <td>Delhi-NCR</td>\n",
       "      <td>20</td>\n",
       "      <td>7.0</td>\n",
       "      <td>1</td>\n",
       "      <td>Laptop/Desktop</td>\n",
       "      <td>3.0</td>\n",
       "      <td>0.0</td>\n",
       "      <td>6.0</td>\n",
       "      <td>2.0</td>\n",
       "      <td>...</td>\n",
       "      <td>NO</td>\n",
       "      <td>Listening to music</td>\n",
       "      <td>NO</td>\n",
       "      <td>YES</td>\n",
       "      <td>Travelling</td>\n",
       "      <td>College</td>\n",
       "      <td>NO</td>\n",
       "      <td>NO</td>\n",
       "      <td>10.0</td>\n",
       "      <td>NO</td>\n",
       "    </tr>\n",
       "    <tr>\n",
       "      <th>3</th>\n",
       "      <td>R4</td>\n",
       "      <td>Delhi-NCR</td>\n",
       "      <td>20</td>\n",
       "      <td>3.0</td>\n",
       "      <td>1</td>\n",
       "      <td>Smartphone</td>\n",
       "      <td>2.0</td>\n",
       "      <td>1.0</td>\n",
       "      <td>6.0</td>\n",
       "      <td>5.0</td>\n",
       "      <td>...</td>\n",
       "      <td>NO</td>\n",
       "      <td>Watching web series</td>\n",
       "      <td>NO</td>\n",
       "      <td>NO</td>\n",
       "      <td>Friends , relatives</td>\n",
       "      <td>College</td>\n",
       "      <td>YES</td>\n",
       "      <td>NO</td>\n",
       "      <td>5.0</td>\n",
       "      <td>NO</td>\n",
       "    </tr>\n",
       "    <tr>\n",
       "      <th>4</th>\n",
       "      <td>R5</td>\n",
       "      <td>Delhi-NCR</td>\n",
       "      <td>21</td>\n",
       "      <td>3.0</td>\n",
       "      <td>4</td>\n",
       "      <td>Laptop/Desktop</td>\n",
       "      <td>3.0</td>\n",
       "      <td>1.0</td>\n",
       "      <td>8.0</td>\n",
       "      <td>3.0</td>\n",
       "      <td>...</td>\n",
       "      <td>NO</td>\n",
       "      <td>Social Media</td>\n",
       "      <td>NO</td>\n",
       "      <td>NO</td>\n",
       "      <td>Travelling</td>\n",
       "      <td>College</td>\n",
       "      <td>NO</td>\n",
       "      <td>YES</td>\n",
       "      <td>6.0</td>\n",
       "      <td>NO</td>\n",
       "    </tr>\n",
       "    <tr>\n",
       "      <th>...</th>\n",
       "      <td>...</td>\n",
       "      <td>...</td>\n",
       "      <td>...</td>\n",
       "      <td>...</td>\n",
       "      <td>...</td>\n",
       "      <td>...</td>\n",
       "      <td>...</td>\n",
       "      <td>...</td>\n",
       "      <td>...</td>\n",
       "      <td>...</td>\n",
       "      <td>...</td>\n",
       "      <td>...</td>\n",
       "      <td>...</td>\n",
       "      <td>...</td>\n",
       "      <td>...</td>\n",
       "      <td>...</td>\n",
       "      <td>...</td>\n",
       "      <td>...</td>\n",
       "      <td>...</td>\n",
       "      <td>...</td>\n",
       "      <td>...</td>\n",
       "    </tr>\n",
       "    <tr>\n",
       "      <th>1177</th>\n",
       "      <td>R1191</td>\n",
       "      <td>Delhi-NCR</td>\n",
       "      <td>12</td>\n",
       "      <td>3.0</td>\n",
       "      <td>4</td>\n",
       "      <td>Smartphone</td>\n",
       "      <td>4.0</td>\n",
       "      <td>1.0</td>\n",
       "      <td>8.0</td>\n",
       "      <td>1.0</td>\n",
       "      <td>...</td>\n",
       "      <td>NO</td>\n",
       "      <td>Dancing</td>\n",
       "      <td>YES</td>\n",
       "      <td>YES</td>\n",
       "      <td>Travelling</td>\n",
       "      <td>ES</td>\n",
       "      <td>NO</td>\n",
       "      <td>NO</td>\n",
       "      <td>7.0</td>\n",
       "      <td>YES</td>\n",
       "    </tr>\n",
       "    <tr>\n",
       "      <th>1178</th>\n",
       "      <td>R1192</td>\n",
       "      <td>Delhi-NCR</td>\n",
       "      <td>14</td>\n",
       "      <td>6.0</td>\n",
       "      <td>3</td>\n",
       "      <td>Smartphone</td>\n",
       "      <td>4.0</td>\n",
       "      <td>1.0</td>\n",
       "      <td>9.0</td>\n",
       "      <td>1.0</td>\n",
       "      <td>...</td>\n",
       "      <td>NO</td>\n",
       "      <td>Listening to music</td>\n",
       "      <td>YES</td>\n",
       "      <td>YES</td>\n",
       "      <td>Friends , relatives</td>\n",
       "      <td>JHS</td>\n",
       "      <td>NO</td>\n",
       "      <td>YES</td>\n",
       "      <td>10.0</td>\n",
       "      <td>YES</td>\n",
       "    </tr>\n",
       "    <tr>\n",
       "      <th>1179</th>\n",
       "      <td>R1193</td>\n",
       "      <td>Delhi-NCR</td>\n",
       "      <td>13</td>\n",
       "      <td>4.0</td>\n",
       "      <td>3</td>\n",
       "      <td>Smartphone</td>\n",
       "      <td>0.0</td>\n",
       "      <td>0.5</td>\n",
       "      <td>8.0</td>\n",
       "      <td>3.0</td>\n",
       "      <td>...</td>\n",
       "      <td>NO</td>\n",
       "      <td>Online gaming</td>\n",
       "      <td>NO</td>\n",
       "      <td>YES</td>\n",
       "      <td>School/college</td>\n",
       "      <td>JHS</td>\n",
       "      <td>YES</td>\n",
       "      <td>YES</td>\n",
       "      <td>4.0</td>\n",
       "      <td>NO</td>\n",
       "    </tr>\n",
       "    <tr>\n",
       "      <th>1180</th>\n",
       "      <td>R1194</td>\n",
       "      <td>Delhi-NCR</td>\n",
       "      <td>14</td>\n",
       "      <td>5.0</td>\n",
       "      <td>5</td>\n",
       "      <td>Laptop/Desktop</td>\n",
       "      <td>3.5</td>\n",
       "      <td>1.0</td>\n",
       "      <td>8.0</td>\n",
       "      <td>0.5</td>\n",
       "      <td>...</td>\n",
       "      <td>NO</td>\n",
       "      <td>Reading books</td>\n",
       "      <td>YES</td>\n",
       "      <td>YES</td>\n",
       "      <td>School/college</td>\n",
       "      <td>JHS</td>\n",
       "      <td>NO</td>\n",
       "      <td>YES</td>\n",
       "      <td>8.5</td>\n",
       "      <td>YES</td>\n",
       "    </tr>\n",
       "    <tr>\n",
       "      <th>1181</th>\n",
       "      <td>R1195</td>\n",
       "      <td>Delhi-NCR</td>\n",
       "      <td>13</td>\n",
       "      <td>5.0</td>\n",
       "      <td>4</td>\n",
       "      <td>Tablet</td>\n",
       "      <td>2.0</td>\n",
       "      <td>0.5</td>\n",
       "      <td>7.0</td>\n",
       "      <td>1.0</td>\n",
       "      <td>...</td>\n",
       "      <td>NO</td>\n",
       "      <td>Talking</td>\n",
       "      <td>YES</td>\n",
       "      <td>YES</td>\n",
       "      <td>School/college</td>\n",
       "      <td>JHS</td>\n",
       "      <td>NO</td>\n",
       "      <td>NO</td>\n",
       "      <td>7.0</td>\n",
       "      <td>NO</td>\n",
       "    </tr>\n",
       "  </tbody>\n",
       "</table>\n",
       "<p>1182 rows × 24 columns</p>\n",
       "</div>"
      ],
      "text/plain": [
       "         ID Region of residence  Age of Subject  Time spent on Online Class  \\\n",
       "0        R1           Delhi-NCR              21                         2.0   \n",
       "1        R2           Delhi-NCR              21                         0.0   \n",
       "2        R3           Delhi-NCR              20                         7.0   \n",
       "3        R4           Delhi-NCR              20                         3.0   \n",
       "4        R5           Delhi-NCR              21                         3.0   \n",
       "...     ...                 ...             ...                         ...   \n",
       "1177  R1191           Delhi-NCR              12                         3.0   \n",
       "1178  R1192           Delhi-NCR              14                         6.0   \n",
       "1179  R1193           Delhi-NCR              13                         4.0   \n",
       "1180  R1194           Delhi-NCR              14                         5.0   \n",
       "1181  R1195           Delhi-NCR              13                         5.0   \n",
       "\n",
       "      Rating of Online Class experience Medium for online class  \\\n",
       "0                                     4          Laptop/Desktop   \n",
       "1                                     5              Smartphone   \n",
       "2                                     1          Laptop/Desktop   \n",
       "3                                     1              Smartphone   \n",
       "4                                     4          Laptop/Desktop   \n",
       "...                                 ...                     ...   \n",
       "1177                                  4              Smartphone   \n",
       "1178                                  3              Smartphone   \n",
       "1179                                  3              Smartphone   \n",
       "1180                                  5          Laptop/Desktop   \n",
       "1181                                  4                  Tablet   \n",
       "\n",
       "      Time spent on self study  Time spent on fitness  Time spent on sleep  \\\n",
       "0                          4.0                    0.0                  7.0   \n",
       "1                          0.0                    2.0                 10.0   \n",
       "2                          3.0                    0.0                  6.0   \n",
       "3                          2.0                    1.0                  6.0   \n",
       "4                          3.0                    1.0                  8.0   \n",
       "...                        ...                    ...                  ...   \n",
       "1177                       4.0                    1.0                  8.0   \n",
       "1178                       4.0                    1.0                  9.0   \n",
       "1179                       0.0                    0.5                  8.0   \n",
       "1180                       3.5                    1.0                  8.0   \n",
       "1181                       2.0                    0.5                  7.0   \n",
       "\n",
       "      Time spent on social media  ... Health issue during lockdown  \\\n",
       "0                            3.0  ...                           NO   \n",
       "1                            3.0  ...                           NO   \n",
       "2                            2.0  ...                           NO   \n",
       "3                            5.0  ...                           NO   \n",
       "4                            3.0  ...                           NO   \n",
       "...                          ...  ...                          ...   \n",
       "1177                         1.0  ...                           NO   \n",
       "1178                         1.0  ...                           NO   \n",
       "1179                         3.0  ...                           NO   \n",
       "1180                         0.5  ...                           NO   \n",
       "1181                         1.0  ...                           NO   \n",
       "\n",
       "                      Stress busters  Time utilized  \\\n",
       "0                            Cooking            YES   \n",
       "1     Scrolling through social media            YES   \n",
       "2                 Listening to music             NO   \n",
       "3                Watching web series             NO   \n",
       "4                       Social Media             NO   \n",
       "...                              ...            ...   \n",
       "1177                         Dancing            YES   \n",
       "1178              Listening to music            YES   \n",
       "1179                   Online gaming             NO   \n",
       "1180                   Reading books            YES   \n",
       "1181                         Talking            YES   \n",
       "\n",
       "     Do you find yourself more connected with your family, close friends , relatives  ?  \\\n",
       "0                                                   YES                                   \n",
       "1                                                    NO                                   \n",
       "2                                                   YES                                   \n",
       "3                                                    NO                                   \n",
       "4                                                    NO                                   \n",
       "...                                                 ...                                   \n",
       "1177                                                YES                                   \n",
       "1178                                                YES                                   \n",
       "1179                                                YES                                   \n",
       "1180                                                YES                                   \n",
       "1181                                                YES                                   \n",
       "\n",
       "     What you miss the most Subject's level of school  \\\n",
       "0            School/college                   College   \n",
       "1     Roaming around freely                   College   \n",
       "2                Travelling                   College   \n",
       "3       Friends , relatives                   College   \n",
       "4                Travelling                   College   \n",
       "...                     ...                       ...   \n",
       "1177             Travelling                        ES   \n",
       "1178    Friends , relatives                       JHS   \n",
       "1179         School/college                       JHS   \n",
       "1180         School/college                       JHS   \n",
       "1181         School/college                       JHS   \n",
       "\n",
       "     Is student spent more time on Sosial Media than Self Study?  \\\n",
       "0                                                    NO            \n",
       "1                                                   YES            \n",
       "2                                                    NO            \n",
       "3                                                   YES            \n",
       "4                                                    NO            \n",
       "...                                                 ...            \n",
       "1177                                                 NO            \n",
       "1178                                                 NO            \n",
       "1179                                                YES            \n",
       "1180                                                 NO            \n",
       "1181                                                 NO            \n",
       "\n",
       "     Is student has normal time sleep? Total time study  \\\n",
       "0                                  YES              6.0   \n",
       "1                                  YES              0.0   \n",
       "2                                   NO             10.0   \n",
       "3                                   NO              5.0   \n",
       "4                                  YES              6.0   \n",
       "...                                ...              ...   \n",
       "1177                                NO              7.0   \n",
       "1178                               YES             10.0   \n",
       "1179                               YES              4.0   \n",
       "1180                               YES              8.5   \n",
       "1181                                NO              7.0   \n",
       "\n",
       "     Is student has normal time fitness?  \n",
       "0                                     NO  \n",
       "1                                    YES  \n",
       "2                                     NO  \n",
       "3                                     NO  \n",
       "4                                     NO  \n",
       "...                                  ...  \n",
       "1177                                 YES  \n",
       "1178                                 YES  \n",
       "1179                                  NO  \n",
       "1180                                 YES  \n",
       "1181                                  NO  \n",
       "\n",
       "[1182 rows x 24 columns]"
      ]
     },
     "execution_count": 2,
     "metadata": {},
     "output_type": "execute_result"
    }
   ],
   "source": [
    "import numpy as np\n",
    "\n",
    "# PREPROCESSING DATA\n",
    "# Membuat list tingkat jenjang pendidikan berdasarkan umur\n",
    "Conditions = [\n",
    "    (df['Age of Subject'] <= 12),\n",
    "    (df['Age of Subject'] >=13) & (df['Age of Subject'] <= 15),\n",
    "    (df['Age of Subject'] >=16) & (df['Age of Subject'] <= 18),\n",
    "    (df['Age of Subject'] >= 19)]\n",
    "\n",
    "# Membuat list tingkat pendidikan\n",
    "Values = ['ES', 'JHS', 'SHS', 'College']\n",
    "\n",
    "# KOLOM BARU 1 Menggabungkan list tingkat jenjang dan list tingkat pendidikan jadi level pendidikan\n",
    "df[\"Subject's level of school\"] = np.select(Conditions, Values)\n",
    "\n",
    "# Membuat rating dari pengalaman online class menjadi 1-5\n",
    "Conditions = [\n",
    "    df['Rating of Online Class experience'] == 'Very poor',\n",
    "    df['Rating of Online Class experience'] == 'Poor',\n",
    "    df['Rating of Online Class experience'] == 'Average',\n",
    "    df['Rating of Online Class experience'] == 'Good',\n",
    "    df['Rating of Online Class experience'] == 'Excellent']\n",
    "\n",
    "Values = [1, 2, 3, 4, 5]\n",
    "\n",
    "# MENGGANTI KOLOM BARU 2 rating pengalaman online class very poor-excellent jadi 1-5\n",
    "df['Rating of Online Class experience'] = np.select(Conditions, Values)\n",
    "\n",
    "# KOLOM BARU 3 Membuat kolom baru apakah pelajar lebih bersosial media drpd belajar mandiri\n",
    "Conditions = [\n",
    "    df['Time spent on social media'] > df['Time spent on self study']\n",
    "]\n",
    "\n",
    "Values = ['YES']\n",
    "\n",
    "df['Is student spent more time on Sosial Media than Self Study?'] = np.select(Conditions, Values, default='NO')\n",
    "\n",
    "# KOLOM BARU 4 (apakah pelajar tidur secara cukup?)\n",
    "Conditions = [\n",
    "    (df[\"Subject's level of school\"] == 'ES') & ((df['Time spent on sleep'] >= 9) & (df['Time spent on sleep'] <=10)),\n",
    "    (df[\"Subject's level of school\"] == 'JHS') & ((df['Time spent on sleep'] >= 8) & (df['Time spent on sleep'] <=10)),\n",
    "    (df[\"Subject's level of school\"] == 'SHS') & ((df['Time spent on sleep'] >= 8) & (df['Time spent on sleep'] <=10)),\n",
    "    (df[\"Subject's level of school\"] == 'College') & ((df['Time spent on sleep'] >= 7) & (df['Time spent on sleep'] <=10))\n",
    "]\n",
    "\n",
    "Values = ['YES', 'YES', 'YES', 'YES']\n",
    "\n",
    "df['Is student has normal time sleep?'] = np.select(Conditions, Values, default = 'NO')\n",
    "\n",
    "# KOLOM BARU 5 (Total waktu belajar pelajar)\n",
    "df['Total time study'] = df['Time spent on Online Class'] + df['Time spent on self study']\n",
    "\n",
    "# KOLOM BARU 6 (apakah pelajar berolahraga cukup?)\n",
    "Conditions = [\n",
    "    (df[\"Subject's level of school\"] == 'ES') & ((df['Time spent on fitness'] >= 0.5)),\n",
    "    (df[\"Subject's level of school\"] == 'JHS') & ((df['Time spent on fitness'] >= 1)),\n",
    "    (df[\"Subject's level of school\"] == 'SHS') & ((df['Time spent on fitness'] >= 1.5)),\n",
    "    (df[\"Subject's level of school\"] == 'College') & ((df['Time spent on fitness'] >= 2))\n",
    "]\n",
    "\n",
    "Values = ['YES', 'YES', 'YES', 'YES']\n",
    "\n",
    "df['Is student has normal time fitness?'] = np.select(Conditions, Values, default = 'NO')\n",
    "\n",
    "df"
   ]
  },
  {
   "cell_type": "code",
   "execution_count": 3,
   "metadata": {},
   "outputs": [
    {
     "data": {
      "text/html": [
       "<div>\n",
       "<style scoped>\n",
       "    .dataframe tbody tr th:only-of-type {\n",
       "        vertical-align: middle;\n",
       "    }\n",
       "\n",
       "    .dataframe tbody tr th {\n",
       "        vertical-align: top;\n",
       "    }\n",
       "\n",
       "    .dataframe thead th {\n",
       "        text-align: right;\n",
       "    }\n",
       "</style>\n",
       "<table border=\"1\" class=\"dataframe\">\n",
       "  <thead>\n",
       "    <tr style=\"text-align: right;\">\n",
       "      <th></th>\n",
       "      <th>Age of Subject</th>\n",
       "      <th>Time spent on Online Class</th>\n",
       "      <th>Rating of Online Class experience</th>\n",
       "      <th>Time spent on self study</th>\n",
       "      <th>Time spent on fitness</th>\n",
       "      <th>Time spent on sleep</th>\n",
       "      <th>Time spent on social media</th>\n",
       "      <th>Number of meals per day</th>\n",
       "      <th>Total time study</th>\n",
       "    </tr>\n",
       "  </thead>\n",
       "  <tbody>\n",
       "    <tr>\n",
       "      <th>count</th>\n",
       "      <td>1182.000000</td>\n",
       "      <td>1182.000000</td>\n",
       "      <td>1182.000000</td>\n",
       "      <td>1182.000000</td>\n",
       "      <td>1182.000000</td>\n",
       "      <td>1182.000000</td>\n",
       "      <td>1182.000000</td>\n",
       "      <td>1182.000000</td>\n",
       "      <td>1182.000000</td>\n",
       "    </tr>\n",
       "    <tr>\n",
       "      <th>mean</th>\n",
       "      <td>20.165821</td>\n",
       "      <td>3.208841</td>\n",
       "      <td>2.575296</td>\n",
       "      <td>2.911591</td>\n",
       "      <td>0.765821</td>\n",
       "      <td>7.871235</td>\n",
       "      <td>2.365694</td>\n",
       "      <td>2.917936</td>\n",
       "      <td>6.120431</td>\n",
       "    </tr>\n",
       "    <tr>\n",
       "      <th>std</th>\n",
       "      <td>5.516467</td>\n",
       "      <td>2.101756</td>\n",
       "      <td>1.397590</td>\n",
       "      <td>2.140590</td>\n",
       "      <td>0.724451</td>\n",
       "      <td>1.615762</td>\n",
       "      <td>1.767336</td>\n",
       "      <td>0.828698</td>\n",
       "      <td>3.173819</td>\n",
       "    </tr>\n",
       "    <tr>\n",
       "      <th>min</th>\n",
       "      <td>7.000000</td>\n",
       "      <td>0.000000</td>\n",
       "      <td>0.000000</td>\n",
       "      <td>0.000000</td>\n",
       "      <td>0.000000</td>\n",
       "      <td>4.000000</td>\n",
       "      <td>0.000000</td>\n",
       "      <td>1.000000</td>\n",
       "      <td>0.000000</td>\n",
       "    </tr>\n",
       "    <tr>\n",
       "      <th>25%</th>\n",
       "      <td>17.000000</td>\n",
       "      <td>2.000000</td>\n",
       "      <td>1.000000</td>\n",
       "      <td>2.000000</td>\n",
       "      <td>0.000000</td>\n",
       "      <td>7.000000</td>\n",
       "      <td>1.000000</td>\n",
       "      <td>2.000000</td>\n",
       "      <td>4.000000</td>\n",
       "    </tr>\n",
       "    <tr>\n",
       "      <th>50%</th>\n",
       "      <td>20.000000</td>\n",
       "      <td>3.000000</td>\n",
       "      <td>3.000000</td>\n",
       "      <td>2.000000</td>\n",
       "      <td>1.000000</td>\n",
       "      <td>8.000000</td>\n",
       "      <td>2.000000</td>\n",
       "      <td>3.000000</td>\n",
       "      <td>6.000000</td>\n",
       "    </tr>\n",
       "    <tr>\n",
       "      <th>75%</th>\n",
       "      <td>21.000000</td>\n",
       "      <td>5.000000</td>\n",
       "      <td>4.000000</td>\n",
       "      <td>4.000000</td>\n",
       "      <td>1.000000</td>\n",
       "      <td>9.000000</td>\n",
       "      <td>3.000000</td>\n",
       "      <td>3.000000</td>\n",
       "      <td>8.000000</td>\n",
       "    </tr>\n",
       "    <tr>\n",
       "      <th>max</th>\n",
       "      <td>59.000000</td>\n",
       "      <td>10.000000</td>\n",
       "      <td>5.000000</td>\n",
       "      <td>18.000000</td>\n",
       "      <td>5.000000</td>\n",
       "      <td>15.000000</td>\n",
       "      <td>10.000000</td>\n",
       "      <td>8.000000</td>\n",
       "      <td>22.000000</td>\n",
       "    </tr>\n",
       "  </tbody>\n",
       "</table>\n",
       "</div>"
      ],
      "text/plain": [
       "       Age of Subject  Time spent on Online Class  \\\n",
       "count     1182.000000                 1182.000000   \n",
       "mean        20.165821                    3.208841   \n",
       "std          5.516467                    2.101756   \n",
       "min          7.000000                    0.000000   \n",
       "25%         17.000000                    2.000000   \n",
       "50%         20.000000                    3.000000   \n",
       "75%         21.000000                    5.000000   \n",
       "max         59.000000                   10.000000   \n",
       "\n",
       "       Rating of Online Class experience  Time spent on self study  \\\n",
       "count                        1182.000000               1182.000000   \n",
       "mean                            2.575296                  2.911591   \n",
       "std                             1.397590                  2.140590   \n",
       "min                             0.000000                  0.000000   \n",
       "25%                             1.000000                  2.000000   \n",
       "50%                             3.000000                  2.000000   \n",
       "75%                             4.000000                  4.000000   \n",
       "max                             5.000000                 18.000000   \n",
       "\n",
       "       Time spent on fitness  Time spent on sleep  Time spent on social media  \\\n",
       "count            1182.000000          1182.000000                 1182.000000   \n",
       "mean                0.765821             7.871235                    2.365694   \n",
       "std                 0.724451             1.615762                    1.767336   \n",
       "min                 0.000000             4.000000                    0.000000   \n",
       "25%                 0.000000             7.000000                    1.000000   \n",
       "50%                 1.000000             8.000000                    2.000000   \n",
       "75%                 1.000000             9.000000                    3.000000   \n",
       "max                 5.000000            15.000000                   10.000000   \n",
       "\n",
       "       Number of meals per day  Total time study  \n",
       "count              1182.000000       1182.000000  \n",
       "mean                  2.917936          6.120431  \n",
       "std                   0.828698          3.173819  \n",
       "min                   1.000000          0.000000  \n",
       "25%                   2.000000          4.000000  \n",
       "50%                   3.000000          6.000000  \n",
       "75%                   3.000000          8.000000  \n",
       "max                   8.000000         22.000000  "
      ]
     },
     "execution_count": 3,
     "metadata": {},
     "output_type": "execute_result"
    }
   ],
   "source": [
    "# Basic Statistical Anlysis\n",
    "df.describe()"
   ]
  },
  {
   "cell_type": "code",
   "execution_count": 4,
   "metadata": {},
   "outputs": [],
   "source": [
    "# Mendeklarasikan variabel berdasarkan tingkat pendidikan\n",
    "df_ElementarySchool = df[df[\"Subject's level of school\"] == 'ES']\n",
    "df_JuniorHighSchool = df[df[\"Subject's level of school\"] == 'JHS']\n",
    "df_SeniorHighSchool = df[df[\"Subject's level of school\"] == 'SHS']\n",
    "df_College = df[df[\"Subject's level of school\"] == 'College']"
   ]
  },
  {
   "cell_type": "code",
   "execution_count": 5,
   "metadata": {},
   "outputs": [
    {
     "data": {
      "text/plain": [
       "<seaborn.axisgrid.FacetGrid at 0x17aa8b88ac0>"
      ]
     },
     "execution_count": 5,
     "metadata": {},
     "output_type": "execute_result"
    },
    {
     "data": {
      "image/png": "[encoded data removed]",
      "text/plain": [
       "<Figure size 360x360 with 1 Axes>"
      ]
     },
     "metadata": {
      "needs_background": "light"
     },
     "output_type": "display_data"
    }
   ],
   "source": [
    "# VISUALISASI DAN ANALISIS\n",
    "\n",
    "import seaborn as sns\n",
    "# Time spent on online class\n",
    "\n",
    "# Membuat grafik yang menunjukkan persebaran data lama waktu online class berdasarkan tingkat pendidikan\n",
    "sns.catplot(x=\"Subject's level of school\", y=\"Time spent on Online Class\", kind='point', order=['ES', 'JHS', 'SHS', 'College'], data=df)"
   ]
  },
  {
   "cell_type": "code",
   "execution_count": 6,
   "metadata": {},
   "outputs": [
    {
     "data": {
      "text/plain": [
       "<seaborn.axisgrid.FacetGrid at 0x17aacebfb80>"
      ]
     },
     "execution_count": 6,
     "metadata": {},
     "output_type": "execute_result"
    },
    {
     "data": {
      "image/png": "[encoded data removed]",
      "text/plain": [
       "<Figure size 360x360 with 1 Axes>"
      ]
     },
     "metadata": {
      "needs_background": "light"
     },
     "output_type": "display_data"
    }
   ],
   "source": [
    "# Membuat grafik gelembung yang fungsinya sama untuk mengetahui jumlah waktu belajar online class\n",
    "sns.catplot(x=\"Subject's level of school\", y=\"Time spent on Online Class\", kind='violin', order=['ES', 'JHS', 'SHS', 'College'], data=df)"
   ]
  },
  {
   "cell_type": "code",
   "execution_count": 7,
   "metadata": {},
   "outputs": [
    {
     "data": {
      "text/plain": [
       "1    413\n",
       "3    387\n",
       "4    230\n",
       "5     98\n",
       "2     30\n",
       "0     24\n",
       "Name: Rating of Online Class experience, dtype: int64"
      ]
     },
     "execution_count": 7,
     "metadata": {},
     "output_type": "execute_result"
    }
   ],
   "source": [
    "# RATING ON ONLINE CLASS\n",
    "\n",
    "df['Rating of Online Class experience'].value_counts()"
   ]
  },
  {
   "cell_type": "code",
   "execution_count": 8,
   "metadata": {},
   "outputs": [
    {
     "data": {
      "image/png": "[encoded data removed]",
      "text/plain": [
       "<Figure size 432x288 with 1 Axes>"
      ]
     },
     "metadata": {},
     "output_type": "display_data"
    }
   ],
   "source": [
    "#define data\n",
    "data = [413, 387, 230, 98, 30]\n",
    "labels = ['Very Poor', 'Poor', 'Average', 'Good', 'Excellent']\n",
    "\n",
    "#define seaborn color palette to use\n",
    "colors = sns.color_palette('pastel')[0:5]\n",
    "\n",
    "#create pie chart\n",
    "plt.pie(data, labels = labels, colors = colors, autopct='%.0f%%')\n",
    "plt.show()"
   ]
  },
  {
   "cell_type": "code",
   "execution_count": 9,
   "metadata": {},
   "outputs": [
    {
     "data": {
      "text/plain": [
       "<seaborn.axisgrid.FacetGrid at 0x17aaf004520>"
      ]
     },
     "execution_count": 9,
     "metadata": {},
     "output_type": "execute_result"
    },
    {
     "data": {
      "image/png": "[encoded data removed]",
      "text/plain": [
       "<Figure size 360x360 with 1 Axes>"
      ]
     },
     "metadata": {
      "needs_background": "light"
     },
     "output_type": "display_data"
    }
   ],
   "source": [
    "# Membuat grafik yang menunjukkan persebaran data RATING ONLINE online class berdasarkan tingkat pendidikan\n",
    "sns.catplot(x=\"Subject's level of school\", y=\"Rating of Online Class experience\", kind='point', order=['ES', 'JHS', 'SHS', 'College'], data=df)"
   ]
  },
  {
   "cell_type": "code",
   "execution_count": 10,
   "metadata": {},
   "outputs": [
    {
     "data": {
      "text/plain": [
       "<seaborn.axisgrid.FacetGrid at 0x17aaf0af790>"
      ]
     },
     "execution_count": 10,
     "metadata": {},
     "output_type": "execute_result"
    },
    {
     "data": {
      "image/png": "[encoded data removed]",
      "text/plain": [
       "<Figure size 360x360 with 1 Axes>"
      ]
     },
     "metadata": {
      "needs_background": "light"
     },
     "output_type": "display_data"
    }
   ],
   "source": [
    "# Membuat grafik gelembung yang fungsinya sama untuk mengetahui RATING online class berdasarkan jenjang pendidikan\n",
    "sns.catplot(x=\"Subject's level of school\", y=\"Rating of Online Class experience\", kind='violin', order=['ES', 'JHS', 'SHS', 'College'], data=df)"
   ]
  },
  {
   "cell_type": "code",
   "execution_count": 11,
   "metadata": {},
   "outputs": [
    {
     "data": {
      "text/plain": [
       "<seaborn.axisgrid.FacetGrid at 0x17aaf05fd00>"
      ]
     },
     "execution_count": 11,
     "metadata": {},
     "output_type": "execute_result"
    },
    {
     "data": {
      "image/png": "[encoded data removed]",
      "text/plain": [
       "<Figure size 360x360 with 1 Axes>"
      ]
     },
     "metadata": {
      "needs_background": "light"
     },
     "output_type": "display_data"
    }
   ],
   "source": [
    "# Membuat grafik yang fungsinya untuk mengetahui waktu belajar mandiri pada online class berdasarkan jenjang pendidikan\n",
    "sns.catplot(x=\"Subject's level of school\", y=\"Time spent on self study\", kind='point', order=['ES', 'JHS', 'SHS', 'College'], data=df)"
   ]
  },
  {
   "cell_type": "code",
   "execution_count": 12,
   "metadata": {},
   "outputs": [
    {
     "data": {
      "text/plain": [
       "<seaborn.axisgrid.FacetGrid at 0x17ab1180be0>"
      ]
     },
     "execution_count": 12,
     "metadata": {},
     "output_type": "execute_result"
    },
    {
     "data": {
      "image/png": "[encoded data removed]",
      "text/plain": [
       "<Figure size 360x360 with 1 Axes>"
      ]
     },
     "metadata": {
      "needs_background": "light"
     },
     "output_type": "display_data"
    }
   ],
   "source": [
    "# Membuat grafik violin/biola yang fungsinya untuk mengetahui waktu belajar mandiri pada online class berdasarkan jenjang pendidikan\n",
    "sns.catplot(x=\"Subject's level of school\", y=\"Time spent on self study\", kind='violin', order=['ES', 'JHS', 'SHS', 'College'], data=df)"
   ]
  },
  {
   "cell_type": "code",
   "execution_count": 13,
   "metadata": {},
   "outputs": [
    {
     "data": {
      "text/plain": [
       "<seaborn.axisgrid.FacetGrid at 0x17ab11abb20>"
      ]
     },
     "execution_count": 13,
     "metadata": {},
     "output_type": "execute_result"
    },
    {
     "data": {
      "image/png": "[encoded data removed]",
      "text/plain": [
       "<Figure size 360x360 with 1 Axes>"
      ]
     },
     "metadata": {
      "needs_background": "light"
     },
     "output_type": "display_data"
    },
    {
     "data": {
      "image/png": "[encoded data removed]",
      "text/plain": [
       "<Figure size 360x360 with 1 Axes>"
      ]
     },
     "metadata": {
      "needs_background": "light"
     },
     "output_type": "display_data"
    }
   ],
   "source": [
    "# Total waktu belajar (waktu kelas online + waktu belajar mandiri)\n",
    "sns.catplot(x=\"Subject's level of school\", y=\"Total time study\", kind='point', order=['ES', 'JHS', 'SHS', 'College'], data=df )\n",
    "sns.catplot(x=\"Subject's level of school\", y=\"Total time study\", kind='violin', order=['ES', 'JHS', 'SHS', 'College'], data=df )\n"
   ]
  },
  {
   "cell_type": "code",
   "execution_count": 14,
   "metadata": {},
   "outputs": [
    {
     "data": {
      "text/plain": [
       "<seaborn.axisgrid.FacetGrid at 0x17ab12b25f0>"
      ]
     },
     "execution_count": 14,
     "metadata": {},
     "output_type": "execute_result"
    },
    {
     "data": {
      "image/png": "[encoded data removed]",
      "text/plain": [
       "<Figure size 360x360 with 1 Axes>"
      ]
     },
     "metadata": {
      "needs_background": "light"
     },
     "output_type": "display_data"
    },
    {
     "data": {
      "image/png": "[encoded data removed]",
      "text/plain": [
       "<Figure size 360x360 with 1 Axes>"
      ]
     },
     "metadata": {
      "needs_background": "light"
     },
     "output_type": "display_data"
    }
   ],
   "source": [
    "# ANALISIS TOTAL WAKTU TIDUR \n",
    "sns.catplot(x=\"Subject's level of school\", y=\"Time spent on sleep\", kind='point', order=['ES', 'JHS', 'SHS', 'College'], data=df )\n",
    "sns.catplot(x=\"Subject's level of school\", y=\"Time spent on sleep\", kind='violin', order=['ES', 'JHS', 'SHS', 'College'], data=df )"
   ]
  },
  {
   "cell_type": "code",
   "execution_count": 15,
   "metadata": {},
   "outputs": [
    {
     "data": {
      "text/plain": [
       "NO     0.659091\n",
       "YES    0.340909\n",
       "Name: Is student has normal time sleep?, dtype: float64"
      ]
     },
     "execution_count": 15,
     "metadata": {},
     "output_type": "execute_result"
    }
   ],
   "source": [
    "# IS STUDENT HAS NORMAL TIME AMOUNT OF SLEEP?\n",
    "\n",
    "from locale import normalize\n",
    "df_ElementarySchool[\"Is student has normal time sleep?\"].value_counts(normalize=True)"
   ]
  },
  {
   "cell_type": "code",
   "execution_count": 16,
   "metadata": {},
   "outputs": [
    {
     "data": {
      "text/plain": [
       "YES    0.526316\n",
       "NO     0.473684\n",
       "Name: Is student has normal time sleep?, dtype: float64"
      ]
     },
     "execution_count": 16,
     "metadata": {},
     "output_type": "execute_result"
    }
   ],
   "source": [
    "df_JuniorHighSchool[\"Is student has normal time sleep?\"].value_counts(normalize=True)"
   ]
  },
  {
   "cell_type": "code",
   "execution_count": 17,
   "metadata": {},
   "outputs": [
    {
     "data": {
      "text/plain": [
       "NO     0.518325\n",
       "YES    0.481675\n",
       "Name: Is student has normal time sleep?, dtype: float64"
      ]
     },
     "execution_count": 17,
     "metadata": {},
     "output_type": "execute_result"
    }
   ],
   "source": [
    "df_SeniorHighSchool[\"Is student has normal time sleep?\"].value_counts(normalize=True)"
   ]
  },
  {
   "cell_type": "code",
   "execution_count": 18,
   "metadata": {},
   "outputs": [
    {
     "data": {
      "text/plain": [
       "YES    0.750614\n",
       "NO     0.249386\n",
       "Name: Is student has normal time sleep?, dtype: float64"
      ]
     },
     "execution_count": 18,
     "metadata": {},
     "output_type": "execute_result"
    }
   ],
   "source": [
    "df_College[\"Is student has normal time sleep?\"].value_counts(normalize=True)"
   ]
  },
  {
   "cell_type": "code",
   "execution_count": 19,
   "metadata": {},
   "outputs": [
    {
     "data": {
      "text/plain": [
       "<seaborn.axisgrid.FacetGrid at 0x17ab136b520>"
      ]
     },
     "execution_count": 19,
     "metadata": {},
     "output_type": "execute_result"
    },
    {
     "data": {
      "image/png": "[encoded data removed]",
      "text/plain": [
       "<Figure size 488.25x360 with 1 Axes>"
      ]
     },
     "metadata": {
      "needs_background": "light"
     },
     "output_type": "display_data"
    }
   ],
   "source": [
    "# BAR CHART APAKAH MURID ITU DAPAT JAM TIDUR NORMAL?\n",
    "sns.catplot(x=\"Is student has normal time sleep?\", hue=\"Subject's level of school\", kind='count', data=df )"
   ]
  },
  {
   "cell_type": "code",
   "execution_count": 20,
   "metadata": {},
   "outputs": [
    {
     "data": {
      "text/plain": [
       "NO     0.795455\n",
       "YES    0.204545\n",
       "Name: Is student spent more time on Sosial Media than Self Study?, dtype: float64"
      ]
     },
     "execution_count": 20,
     "metadata": {},
     "output_type": "execute_result"
    }
   ],
   "source": [
    "# IS STUDENT SPENT MORE TIME ON SOCIAL MEDIA THAN SELF STUDY?\n",
    "\n",
    "df_ElementarySchool[\"Is student spent more time on Sosial Media than Self Study?\"].value_counts(normalize=True)"
   ]
  },
  {
   "cell_type": "code",
   "execution_count": 21,
   "metadata": {},
   "outputs": [
    {
     "data": {
      "text/plain": [
       "NO     0.857143\n",
       "YES    0.142857\n",
       "Name: Is student spent more time on Sosial Media than Self Study?, dtype: float64"
      ]
     },
     "execution_count": 21,
     "metadata": {},
     "output_type": "execute_result"
    }
   ],
   "source": [
    "df_JuniorHighSchool[\"Is student spent more time on Sosial Media than Self Study?\"].value_counts(normalize=True)"
   ]
  },
  {
   "cell_type": "code",
   "execution_count": 22,
   "metadata": {},
   "outputs": [
    {
     "data": {
      "text/plain": [
       "NO     0.701571\n",
       "YES    0.298429\n",
       "Name: Is student spent more time on Sosial Media than Self Study?, dtype: float64"
      ]
     },
     "execution_count": 22,
     "metadata": {},
     "output_type": "execute_result"
    }
   ],
   "source": [
    "df_SeniorHighSchool[\"Is student spent more time on Sosial Media than Self Study?\"].value_counts(normalize=True)"
   ]
  },
  {
   "cell_type": "code",
   "execution_count": 23,
   "metadata": {},
   "outputs": [
    {
     "data": {
      "text/plain": [
       "NO     0.638821\n",
       "YES    0.361179\n",
       "Name: Is student spent more time on Sosial Media than Self Study?, dtype: float64"
      ]
     },
     "execution_count": 23,
     "metadata": {},
     "output_type": "execute_result"
    }
   ],
   "source": [
    "df_College[\"Is student spent more time on Sosial Media than Self Study?\"].value_counts(normalize=True)"
   ]
  },
  {
   "cell_type": "code",
   "execution_count": 24,
   "metadata": {},
   "outputs": [
    {
     "data": {
      "text/plain": [
       "<seaborn.axisgrid.FacetGrid at 0x17ab24a98a0>"
      ]
     },
     "execution_count": 24,
     "metadata": {},
     "output_type": "execute_result"
    },
    {
     "data": {
      "image/png": "[encoded data removed]",
      "text/plain": [
       "<Figure size 488.25x360 with 1 Axes>"
      ]
     },
     "metadata": {
      "needs_background": "light"
     },
     "output_type": "display_data"
    }
   ],
   "source": [
    "# BAR CHART\n",
    "sns.catplot(x=\"Is student spent more time on Sosial Media than Self Study?\", hue=\"Subject's level of school\", kind='count', data=df )"
   ]
  },
  {
   "cell_type": "code",
   "execution_count": 25,
   "metadata": {},
   "outputs": [
    {
     "data": {
      "text/plain": [
       "<seaborn.axisgrid.FacetGrid at 0x17ab2489270>"
      ]
     },
     "execution_count": 25,
     "metadata": {},
     "output_type": "execute_result"
    },
    {
     "data": {
      "image/png": "[encoded data removed]",
      "text/plain": [
       "<Figure size 488.25x360 with 1 Axes>"
      ]
     },
     "metadata": {
      "needs_background": "light"
     },
     "output_type": "display_data"
    }
   ],
   "source": [
    "# HEALTH ISSUES DURING LOCKDOWN\n",
    "sns.catplot(x=\"Health issue during lockdown\", hue=\"Subject's level of school\", kind='count', data=df )"
   ]
  },
  {
   "cell_type": "code",
   "execution_count": 26,
   "metadata": {},
   "outputs": [
    {
     "data": {
      "text/plain": [
       "<seaborn.axisgrid.FacetGrid at 0x17ab248ba90>"
      ]
     },
     "execution_count": 26,
     "metadata": {},
     "output_type": "execute_result"
    },
    {
     "data": {
      "image/png": "[encoded data removed]",
      "text/plain": [
       "<Figure size 360x360 with 1 Axes>"
      ]
     },
     "metadata": {
      "needs_background": "light"
     },
     "output_type": "display_data"
    }
   ],
   "source": [
    "# MEDIA SOSIAL TERBANYAK DIGUNAKAN OLEH PELAJAR INDIA SAAT COVID-19\n",
    "\n",
    "sns.displot(df, y=\"Prefered social media platform\")"
   ]
  },
  {
   "cell_type": "code",
   "execution_count": 27,
   "metadata": {},
   "outputs": [
    {
     "data": {
      "text/plain": [
       "Laptop/Desktop                  545\n",
       "Smartphone                      539\n",
       "Tablet                           37\n",
       "Any Gadget                        5\n",
       "Smartphone or Laptop/Desktop      5\n",
       "Name: Medium for online class, dtype: int64"
      ]
     },
     "execution_count": 27,
     "metadata": {},
     "output_type": "execute_result"
    }
   ],
   "source": [
    "# Gadget populer di pelajar india\n",
    "\n",
    "df[\"Medium for online class\"].value_counts()"
   ]
  },
  {
   "cell_type": "code",
   "execution_count": 28,
   "metadata": {},
   "outputs": [
    {
     "data": {
      "text/plain": [
       "<seaborn.axisgrid.FacetGrid at 0x17ab138bac0>"
      ]
     },
     "execution_count": 28,
     "metadata": {},
     "output_type": "execute_result"
    },
    {
     "data": {
      "image/png": "[encoded data removed]",
      "text/plain": [
       "<Figure size 360x360 with 1 Axes>"
      ]
     },
     "metadata": {
      "needs_background": "light"
     },
     "output_type": "display_data"
    }
   ],
   "source": [
    "# Apakah pelajar merasa memanfaatkan waktunya?\n",
    "\n",
    "sns.displot(x=\"Time utilized\", data=df)"
   ]
  },
  {
   "cell_type": "code",
   "execution_count": 29,
   "metadata": {},
   "outputs": [],
   "source": [
    "# KOLOM BARU 6 (apakah pelajar berolahraga secara cukup?)\n",
    "Conditions = [\n",
    "    (df[\"Subject's level of school\"] == 'ES') & ((df['Time spent on fitness'] >= 0.5)),\n",
    "    (df[\"Subject's level of school\"] == 'JHS') & ((df['Time spent on fitness'] >= 1)),\n",
    "    (df[\"Subject's level of school\"] == 'SHS') & ((df['Time spent on fitness'] >= 1.5)),\n",
    "    (df[\"Subject's level of school\"] == 'College') & ((df['Time spent on fitness'] >= 2))\n",
    "]\n",
    "\n",
    "Values = ['YES', 'YES', 'YES', 'YES']\n",
    "\n",
    "df['Is student has normal time fitness?'] = np.select(Conditions, Values, default = 'NO')"
   ]
  },
  {
   "cell_type": "code",
   "execution_count": 30,
   "metadata": {},
   "outputs": [
    {
     "data": {
      "text/plain": [
       "YES    0.75\n",
       "NO     0.25\n",
       "Name: Is student has normal time fitness?, dtype: float64"
      ]
     },
     "execution_count": 30,
     "metadata": {},
     "output_type": "execute_result"
    }
   ],
   "source": [
    "# SD OLAHRAGA CUKUP?\n",
    "df_ElementarySchool[\"Is student has normal time fitness?\"].value_counts(normalize=True)"
   ]
  },
  {
   "cell_type": "code",
   "execution_count": 31,
   "metadata": {},
   "outputs": [
    {
     "data": {
      "text/plain": [
       "YES    0.631579\n",
       "NO     0.368421\n",
       "Name: Is student has normal time fitness?, dtype: float64"
      ]
     },
     "execution_count": 31,
     "metadata": {},
     "output_type": "execute_result"
    }
   ],
   "source": [
    "# SMP OLAHRAGA CUKUP?\n",
    "df_JuniorHighSchool[\"Is student has normal time fitness?\"].value_counts(normalize=True)"
   ]
  },
  {
   "cell_type": "code",
   "execution_count": 32,
   "metadata": {},
   "outputs": [
    {
     "data": {
      "text/plain": [
       "NO     0.842932\n",
       "YES    0.157068\n",
       "Name: Is student has normal time fitness?, dtype: float64"
      ]
     },
     "execution_count": 32,
     "metadata": {},
     "output_type": "execute_result"
    }
   ],
   "source": [
    "# SMA OLAHRAGA CUKUP?\n",
    "df_SeniorHighSchool[\"Is student has normal time fitness?\"].value_counts(normalize=True)"
   ]
  },
  {
   "cell_type": "code",
   "execution_count": 33,
   "metadata": {},
   "outputs": [
    {
     "data": {
      "text/plain": [
       "NO     0.884521\n",
       "YES    0.115479\n",
       "Name: Is student has normal time fitness?, dtype: float64"
      ]
     },
     "execution_count": 33,
     "metadata": {},
     "output_type": "execute_result"
    }
   ],
   "source": [
    "# KULIAH OLAHRAGA CUKUP?\n",
    "df_College[\"Is student has normal time fitness?\"].value_counts(normalize=True)"
   ]
  },
  {
   "cell_type": "code",
   "execution_count": 34,
   "metadata": {},
   "outputs": [
    {
     "data": {
      "text/plain": [
       "<seaborn.axisgrid.FacetGrid at 0x17aaf05dea0>"
      ]
     },
     "execution_count": 34,
     "metadata": {},
     "output_type": "execute_result"
    },
    {
     "data": {
      "image/png": "[encoded data removed]",
      "text/plain": [
       "<Figure size 488.25x360 with 1 Axes>"
      ]
     },
     "metadata": {
      "needs_background": "light"
     },
     "output_type": "display_data"
    }
   ],
   "source": [
    "# BAR CHART OLAHRAGA CUKUP\n",
    "\n",
    "sns.catplot(x=\"Is student has normal time fitness?\", hue=\"Subject's level of school\", kind=\"count\", data=df )"
   ]
  },
  {
   "cell_type": "code",
   "execution_count": 35,
   "metadata": {},
   "outputs": [
    {
     "data": {
      "text/html": [
       "<div>\n",
       "<style scoped>\n",
       "    .dataframe tbody tr th:only-of-type {\n",
       "        vertical-align: middle;\n",
       "    }\n",
       "\n",
       "    .dataframe tbody tr th {\n",
       "        vertical-align: top;\n",
       "    }\n",
       "\n",
       "    .dataframe thead th {\n",
       "        text-align: right;\n",
       "    }\n",
       "</style>\n",
       "<table border=\"1\" class=\"dataframe\">\n",
       "  <thead>\n",
       "    <tr style=\"text-align: right;\">\n",
       "      <th></th>\n",
       "      <th>ID</th>\n",
       "      <th>Region of residence</th>\n",
       "      <th>Age of Subject</th>\n",
       "      <th>Time spent on Online Class</th>\n",
       "      <th>Rating of Online Class experience</th>\n",
       "      <th>Medium for online class</th>\n",
       "      <th>Time spent on self study</th>\n",
       "      <th>Time spent on fitness</th>\n",
       "      <th>Time spent on sleep</th>\n",
       "      <th>Time spent on social media</th>\n",
       "      <th>...</th>\n",
       "      <th>Health issue during lockdown</th>\n",
       "      <th>Stress busters</th>\n",
       "      <th>Time utilized</th>\n",
       "      <th>Do you find yourself more connected with your family, close friends , relatives  ?</th>\n",
       "      <th>What you miss the most</th>\n",
       "      <th>Subject's level of school</th>\n",
       "      <th>Is student spent more time on Sosial Media than Self Study?</th>\n",
       "      <th>Is student has normal time sleep?</th>\n",
       "      <th>Total time study</th>\n",
       "      <th>Is student has normal time fitness?</th>\n",
       "    </tr>\n",
       "  </thead>\n",
       "  <tbody>\n",
       "    <tr>\n",
       "      <th>0</th>\n",
       "      <td>R1</td>\n",
       "      <td>Delhi-NCR</td>\n",
       "      <td>21</td>\n",
       "      <td>2.0</td>\n",
       "      <td>4</td>\n",
       "      <td>Laptop/Desktop</td>\n",
       "      <td>4.0</td>\n",
       "      <td>0.0</td>\n",
       "      <td>7.0</td>\n",
       "      <td>3.0</td>\n",
       "      <td>...</td>\n",
       "      <td>NO</td>\n",
       "      <td>Cooking</td>\n",
       "      <td>YES</td>\n",
       "      <td>YES</td>\n",
       "      <td>School/college</td>\n",
       "      <td>College</td>\n",
       "      <td>NO</td>\n",
       "      <td>YES</td>\n",
       "      <td>6.0</td>\n",
       "      <td>NO</td>\n",
       "    </tr>\n",
       "    <tr>\n",
       "      <th>1</th>\n",
       "      <td>R2</td>\n",
       "      <td>Delhi-NCR</td>\n",
       "      <td>21</td>\n",
       "      <td>0.0</td>\n",
       "      <td>5</td>\n",
       "      <td>Smartphone</td>\n",
       "      <td>0.0</td>\n",
       "      <td>2.0</td>\n",
       "      <td>10.0</td>\n",
       "      <td>3.0</td>\n",
       "      <td>...</td>\n",
       "      <td>NO</td>\n",
       "      <td>Scrolling through social media</td>\n",
       "      <td>YES</td>\n",
       "      <td>NO</td>\n",
       "      <td>Roaming around freely</td>\n",
       "      <td>College</td>\n",
       "      <td>YES</td>\n",
       "      <td>YES</td>\n",
       "      <td>0.0</td>\n",
       "      <td>YES</td>\n",
       "    </tr>\n",
       "    <tr>\n",
       "      <th>2</th>\n",
       "      <td>R3</td>\n",
       "      <td>Delhi-NCR</td>\n",
       "      <td>20</td>\n",
       "      <td>7.0</td>\n",
       "      <td>1</td>\n",
       "      <td>Laptop/Desktop</td>\n",
       "      <td>3.0</td>\n",
       "      <td>0.0</td>\n",
       "      <td>6.0</td>\n",
       "      <td>2.0</td>\n",
       "      <td>...</td>\n",
       "      <td>NO</td>\n",
       "      <td>Listening to music</td>\n",
       "      <td>NO</td>\n",
       "      <td>YES</td>\n",
       "      <td>Travelling</td>\n",
       "      <td>College</td>\n",
       "      <td>NO</td>\n",
       "      <td>NO</td>\n",
       "      <td>10.0</td>\n",
       "      <td>NO</td>\n",
       "    </tr>\n",
       "    <tr>\n",
       "      <th>3</th>\n",
       "      <td>R4</td>\n",
       "      <td>Delhi-NCR</td>\n",
       "      <td>20</td>\n",
       "      <td>3.0</td>\n",
       "      <td>1</td>\n",
       "      <td>Smartphone</td>\n",
       "      <td>2.0</td>\n",
       "      <td>1.0</td>\n",
       "      <td>6.0</td>\n",
       "      <td>5.0</td>\n",
       "      <td>...</td>\n",
       "      <td>NO</td>\n",
       "      <td>Watching web series</td>\n",
       "      <td>NO</td>\n",
       "      <td>NO</td>\n",
       "      <td>Friends , relatives</td>\n",
       "      <td>College</td>\n",
       "      <td>YES</td>\n",
       "      <td>NO</td>\n",
       "      <td>5.0</td>\n",
       "      <td>NO</td>\n",
       "    </tr>\n",
       "    <tr>\n",
       "      <th>4</th>\n",
       "      <td>R5</td>\n",
       "      <td>Delhi-NCR</td>\n",
       "      <td>21</td>\n",
       "      <td>3.0</td>\n",
       "      <td>4</td>\n",
       "      <td>Laptop/Desktop</td>\n",
       "      <td>3.0</td>\n",
       "      <td>1.0</td>\n",
       "      <td>8.0</td>\n",
       "      <td>3.0</td>\n",
       "      <td>...</td>\n",
       "      <td>NO</td>\n",
       "      <td>Social Media</td>\n",
       "      <td>NO</td>\n",
       "      <td>NO</td>\n",
       "      <td>Travelling</td>\n",
       "      <td>College</td>\n",
       "      <td>NO</td>\n",
       "      <td>YES</td>\n",
       "      <td>6.0</td>\n",
       "      <td>NO</td>\n",
       "    </tr>\n",
       "    <tr>\n",
       "      <th>...</th>\n",
       "      <td>...</td>\n",
       "      <td>...</td>\n",
       "      <td>...</td>\n",
       "      <td>...</td>\n",
       "      <td>...</td>\n",
       "      <td>...</td>\n",
       "      <td>...</td>\n",
       "      <td>...</td>\n",
       "      <td>...</td>\n",
       "      <td>...</td>\n",
       "      <td>...</td>\n",
       "      <td>...</td>\n",
       "      <td>...</td>\n",
       "      <td>...</td>\n",
       "      <td>...</td>\n",
       "      <td>...</td>\n",
       "      <td>...</td>\n",
       "      <td>...</td>\n",
       "      <td>...</td>\n",
       "      <td>...</td>\n",
       "      <td>...</td>\n",
       "    </tr>\n",
       "    <tr>\n",
       "      <th>1177</th>\n",
       "      <td>R1191</td>\n",
       "      <td>Delhi-NCR</td>\n",
       "      <td>12</td>\n",
       "      <td>3.0</td>\n",
       "      <td>4</td>\n",
       "      <td>Smartphone</td>\n",
       "      <td>4.0</td>\n",
       "      <td>1.0</td>\n",
       "      <td>8.0</td>\n",
       "      <td>1.0</td>\n",
       "      <td>...</td>\n",
       "      <td>NO</td>\n",
       "      <td>Dancing</td>\n",
       "      <td>YES</td>\n",
       "      <td>YES</td>\n",
       "      <td>Travelling</td>\n",
       "      <td>ES</td>\n",
       "      <td>NO</td>\n",
       "      <td>NO</td>\n",
       "      <td>7.0</td>\n",
       "      <td>YES</td>\n",
       "    </tr>\n",
       "    <tr>\n",
       "      <th>1178</th>\n",
       "      <td>R1192</td>\n",
       "      <td>Delhi-NCR</td>\n",
       "      <td>14</td>\n",
       "      <td>6.0</td>\n",
       "      <td>3</td>\n",
       "      <td>Smartphone</td>\n",
       "      <td>4.0</td>\n",
       "      <td>1.0</td>\n",
       "      <td>9.0</td>\n",
       "      <td>1.0</td>\n",
       "      <td>...</td>\n",
       "      <td>NO</td>\n",
       "      <td>Listening to music</td>\n",
       "      <td>YES</td>\n",
       "      <td>YES</td>\n",
       "      <td>Friends , relatives</td>\n",
       "      <td>JHS</td>\n",
       "      <td>NO</td>\n",
       "      <td>YES</td>\n",
       "      <td>10.0</td>\n",
       "      <td>YES</td>\n",
       "    </tr>\n",
       "    <tr>\n",
       "      <th>1179</th>\n",
       "      <td>R1193</td>\n",
       "      <td>Delhi-NCR</td>\n",
       "      <td>13</td>\n",
       "      <td>4.0</td>\n",
       "      <td>3</td>\n",
       "      <td>Smartphone</td>\n",
       "      <td>0.0</td>\n",
       "      <td>0.5</td>\n",
       "      <td>8.0</td>\n",
       "      <td>3.0</td>\n",
       "      <td>...</td>\n",
       "      <td>NO</td>\n",
       "      <td>Online gaming</td>\n",
       "      <td>NO</td>\n",
       "      <td>YES</td>\n",
       "      <td>School/college</td>\n",
       "      <td>JHS</td>\n",
       "      <td>YES</td>\n",
       "      <td>YES</td>\n",
       "      <td>4.0</td>\n",
       "      <td>NO</td>\n",
       "    </tr>\n",
       "    <tr>\n",
       "      <th>1180</th>\n",
       "      <td>R1194</td>\n",
       "      <td>Delhi-NCR</td>\n",
       "      <td>14</td>\n",
       "      <td>5.0</td>\n",
       "      <td>5</td>\n",
       "      <td>Laptop/Desktop</td>\n",
       "      <td>3.5</td>\n",
       "      <td>1.0</td>\n",
       "      <td>8.0</td>\n",
       "      <td>0.5</td>\n",
       "      <td>...</td>\n",
       "      <td>NO</td>\n",
       "      <td>Reading books</td>\n",
       "      <td>YES</td>\n",
       "      <td>YES</td>\n",
       "      <td>School/college</td>\n",
       "      <td>JHS</td>\n",
       "      <td>NO</td>\n",
       "      <td>YES</td>\n",
       "      <td>8.5</td>\n",
       "      <td>YES</td>\n",
       "    </tr>\n",
       "    <tr>\n",
       "      <th>1181</th>\n",
       "      <td>R1195</td>\n",
       "      <td>Delhi-NCR</td>\n",
       "      <td>13</td>\n",
       "      <td>5.0</td>\n",
       "      <td>4</td>\n",
       "      <td>Tablet</td>\n",
       "      <td>2.0</td>\n",
       "      <td>0.5</td>\n",
       "      <td>7.0</td>\n",
       "      <td>1.0</td>\n",
       "      <td>...</td>\n",
       "      <td>NO</td>\n",
       "      <td>Talking</td>\n",
       "      <td>YES</td>\n",
       "      <td>YES</td>\n",
       "      <td>School/college</td>\n",
       "      <td>JHS</td>\n",
       "      <td>NO</td>\n",
       "      <td>NO</td>\n",
       "      <td>7.0</td>\n",
       "      <td>NO</td>\n",
       "    </tr>\n",
       "  </tbody>\n",
       "</table>\n",
       "<p>1182 rows × 24 columns</p>\n",
       "</div>"
      ],
      "text/plain": [
       "         ID Region of residence  Age of Subject  Time spent on Online Class  \\\n",
       "0        R1           Delhi-NCR              21                         2.0   \n",
       "1        R2           Delhi-NCR              21                         0.0   \n",
       "2        R3           Delhi-NCR              20                         7.0   \n",
       "3        R4           Delhi-NCR              20                         3.0   \n",
       "4        R5           Delhi-NCR              21                         3.0   \n",
       "...     ...                 ...             ...                         ...   \n",
       "1177  R1191           Delhi-NCR              12                         3.0   \n",
       "1178  R1192           Delhi-NCR              14                         6.0   \n",
       "1179  R1193           Delhi-NCR              13                         4.0   \n",
       "1180  R1194           Delhi-NCR              14                         5.0   \n",
       "1181  R1195           Delhi-NCR              13                         5.0   \n",
       "\n",
       "      Rating of Online Class experience Medium for online class  \\\n",
       "0                                     4          Laptop/Desktop   \n",
       "1                                     5              Smartphone   \n",
       "2                                     1          Laptop/Desktop   \n",
       "3                                     1              Smartphone   \n",
       "4                                     4          Laptop/Desktop   \n",
       "...                                 ...                     ...   \n",
       "1177                                  4              Smartphone   \n",
       "1178                                  3              Smartphone   \n",
       "1179                                  3              Smartphone   \n",
       "1180                                  5          Laptop/Desktop   \n",
       "1181                                  4                  Tablet   \n",
       "\n",
       "      Time spent on self study  Time spent on fitness  Time spent on sleep  \\\n",
       "0                          4.0                    0.0                  7.0   \n",
       "1                          0.0                    2.0                 10.0   \n",
       "2                          3.0                    0.0                  6.0   \n",
       "3                          2.0                    1.0                  6.0   \n",
       "4                          3.0                    1.0                  8.0   \n",
       "...                        ...                    ...                  ...   \n",
       "1177                       4.0                    1.0                  8.0   \n",
       "1178                       4.0                    1.0                  9.0   \n",
       "1179                       0.0                    0.5                  8.0   \n",
       "1180                       3.5                    1.0                  8.0   \n",
       "1181                       2.0                    0.5                  7.0   \n",
       "\n",
       "      Time spent on social media  ... Health issue during lockdown  \\\n",
       "0                            3.0  ...                           NO   \n",
       "1                            3.0  ...                           NO   \n",
       "2                            2.0  ...                           NO   \n",
       "3                            5.0  ...                           NO   \n",
       "4                            3.0  ...                           NO   \n",
       "...                          ...  ...                          ...   \n",
       "1177                         1.0  ...                           NO   \n",
       "1178                         1.0  ...                           NO   \n",
       "1179                         3.0  ...                           NO   \n",
       "1180                         0.5  ...                           NO   \n",
       "1181                         1.0  ...                           NO   \n",
       "\n",
       "                      Stress busters  Time utilized  \\\n",
       "0                            Cooking            YES   \n",
       "1     Scrolling through social media            YES   \n",
       "2                 Listening to music             NO   \n",
       "3                Watching web series             NO   \n",
       "4                       Social Media             NO   \n",
       "...                              ...            ...   \n",
       "1177                         Dancing            YES   \n",
       "1178              Listening to music            YES   \n",
       "1179                   Online gaming             NO   \n",
       "1180                   Reading books            YES   \n",
       "1181                         Talking            YES   \n",
       "\n",
       "     Do you find yourself more connected with your family, close friends , relatives  ?  \\\n",
       "0                                                   YES                                   \n",
       "1                                                    NO                                   \n",
       "2                                                   YES                                   \n",
       "3                                                    NO                                   \n",
       "4                                                    NO                                   \n",
       "...                                                 ...                                   \n",
       "1177                                                YES                                   \n",
       "1178                                                YES                                   \n",
       "1179                                                YES                                   \n",
       "1180                                                YES                                   \n",
       "1181                                                YES                                   \n",
       "\n",
       "     What you miss the most Subject's level of school  \\\n",
       "0            School/college                   College   \n",
       "1     Roaming around freely                   College   \n",
       "2                Travelling                   College   \n",
       "3       Friends , relatives                   College   \n",
       "4                Travelling                   College   \n",
       "...                     ...                       ...   \n",
       "1177             Travelling                        ES   \n",
       "1178    Friends , relatives                       JHS   \n",
       "1179         School/college                       JHS   \n",
       "1180         School/college                       JHS   \n",
       "1181         School/college                       JHS   \n",
       "\n",
       "     Is student spent more time on Sosial Media than Self Study?  \\\n",
       "0                                                    NO            \n",
       "1                                                   YES            \n",
       "2                                                    NO            \n",
       "3                                                   YES            \n",
       "4                                                    NO            \n",
       "...                                                 ...            \n",
       "1177                                                 NO            \n",
       "1178                                                 NO            \n",
       "1179                                                YES            \n",
       "1180                                                 NO            \n",
       "1181                                                 NO            \n",
       "\n",
       "     Is student has normal time sleep? Total time study  \\\n",
       "0                                  YES              6.0   \n",
       "1                                  YES              0.0   \n",
       "2                                   NO             10.0   \n",
       "3                                   NO              5.0   \n",
       "4                                  YES              6.0   \n",
       "...                                ...              ...   \n",
       "1177                                NO              7.0   \n",
       "1178                               YES             10.0   \n",
       "1179                               YES              4.0   \n",
       "1180                               YES              8.5   \n",
       "1181                                NO              7.0   \n",
       "\n",
       "     Is student has normal time fitness?  \n",
       "0                                     NO  \n",
       "1                                    YES  \n",
       "2                                     NO  \n",
       "3                                     NO  \n",
       "4                                     NO  \n",
       "...                                  ...  \n",
       "1177                                 YES  \n",
       "1178                                 YES  \n",
       "1179                                  NO  \n",
       "1180                                 YES  \n",
       "1181                                  NO  \n",
       "\n",
       "[1182 rows x 24 columns]"
      ]
     },
     "execution_count": 35,
     "metadata": {},
     "output_type": "execute_result"
    }
   ],
   "source": [
    "df"
   ]
  }
 ],
 "metadata": {
  "kernelspec": {
   "display_name": "Python 3.10.5 64-bit",
   "language": "python",
   "name": "python3"
  },
  "language_info": {
   "codemirror_mode": {
    "name": "ipython",
    "version": 3
   },
   "file_extension": ".py",
   "mimetype": "text/x-python",
   "name": "python",
   "nbconvert_exporter": "python",
   "pygments_lexer": "ipython3",
   "version": "3.10.5"
  },
  "orig_nbformat": 4,
  "vscode": {
   "interpreter": {
    "hash": "0d72b21489300652f2337cd7f80c57cc00ce6bbc92cf98d285c178d0a8ced433"
   }
  }
 },
 "nbformat": 4,
 "nbformat_minor": 2
}
